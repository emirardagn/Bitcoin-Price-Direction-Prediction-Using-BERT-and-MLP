{
 "cells": [
  {
   "cell_type": "markdown",
   "metadata": {},
   "source": [
    "# **Pip install**"
   ]
  },
  {
   "cell_type": "markdown",
   "metadata": {},
   "source": [
    "# **Importing Libraries**"
   ]
  },
  {
   "cell_type": "code",
   "execution_count": 1,
   "metadata": {
    "execution": {
     "iopub.execute_input": "2024-01-11T07:54:40.962886Z",
     "iopub.status.busy": "2024-01-11T07:54:40.962568Z",
     "iopub.status.idle": "2024-01-11T07:54:45.570367Z",
     "shell.execute_reply": "2024-01-11T07:54:45.569367Z",
     "shell.execute_reply.started": "2024-01-11T07:54:40.962846Z"
    }
   },
   "outputs": [],
   "source": [
    "import pandas as pd\n",
    "import sklearn\n",
    "import matplotlib.pyplot as plt\n",
    "import yfinance as yf\n",
    "from scipy.interpolate import interp1d, splev, splrep\n",
    "from scipy.interpolate import UnivariateSpline\n",
    "from sklearn.impute import SimpleImputer\n",
    "from statsmodels.tsa.seasonal import STL\n",
    "import numpy as np\n",
    "from datetime import datetime, timedelta"
   ]
  },
  {
   "cell_type": "markdown",
   "metadata": {},
   "source": [
    "# **Creating Dataset**"
   ]
  },
  {
   "cell_type": "markdown",
   "metadata": {},
   "source": [
    "We are getting a dataset from kaggle where we can reach tweets, dates, and author's followers, adding this dataset 1 week later column for later, also making index as date because we are combine this dataset and bitcoin price dataset after."
   ]
  },
  {
   "cell_type": "code",
   "execution_count": 2,
   "metadata": {
    "execution": {
     "iopub.execute_input": "2024-01-11T07:54:45.572121Z",
     "iopub.status.busy": "2024-01-11T07:54:45.571625Z",
     "iopub.status.idle": "2024-01-11T07:55:57.461355Z",
     "shell.execute_reply": "2024-01-11T07:55:57.460465Z",
     "shell.execute_reply.started": "2024-01-11T07:54:45.572089Z"
    }
   },
   "outputs": [
    {
     "data": {
      "text/plain": [
       "(4689288, 4)"
      ]
     },
     "execution_count": 2,
     "metadata": {},
     "output_type": "execute_result"
    }
   ],
   "source": [
    "chunk = pd.read_csv('Bitcoin_tweets.csv',chunksize=100000,lineterminator='\\n',low_memory=False)\n",
    "df = pd.concat(chunk)\n",
    "df = df[[\"user_name\",\"user_followers\",\"text\",\"date\"]]\n",
    "df = df.convert_dtypes()\n",
    "df['date'] = pd.to_datetime(df['date'], errors='coerce')\n",
    "df = df.dropna(subset=['date'])\n",
    "df['date'] = df['date'].dt.strftime('%Y-%m-%d')\n",
    "df['date'] = pd.to_datetime(df['date'], errors='coerce')\n",
    "df.set_index('date', inplace=True)\n",
    "df = df.sort_index()\n",
    "df[\"1_week_later\"] = df.index + timedelta(days=7)\n",
    "df.shape"
   ]
  },
  {
   "cell_type": "markdown",
   "metadata": {},
   "source": [
    "# **Filtering**"
   ]
  },
  {
   "cell_type": "markdown",
   "metadata": {},
   "source": [
    "We use filtering because BRENT cost LOTSSS OF TIME "
   ]
  },
  {
   "cell_type": "code",
   "execution_count": 3,
   "metadata": {
    "execution": {
     "iopub.execute_input": "2024-01-11T07:55:57.463832Z",
     "iopub.status.busy": "2024-01-11T07:55:57.463537Z",
     "iopub.status.idle": "2024-01-11T07:56:19.163712Z",
     "shell.execute_reply": "2024-01-11T07:56:19.162818Z",
     "shell.execute_reply.started": "2024-01-11T07:55:57.463806Z"
    }
   },
   "outputs": [
    {
     "data": {
      "text/plain": [
       "(54460, 4)"
      ]
     },
     "execution_count": 3,
     "metadata": {},
     "output_type": "execute_result"
    }
   ],
   "source": [
    "df['user_followers'] = pd.to_numeric(df['user_followers'], errors='coerce')\n",
    "\n",
    "df = df[~df[\"user_name\"].str.contains(\"binance\")]\n",
    "df = df[~df[\"user_name\"].str.contains(\"coinbase\")]\n",
    "df = df[~df[\"user_name\"].str.contains(\"huobi\")]\n",
    "df = df[~df[\"user_name\"].str.contains(\"kraken\")]\n",
    "df = df[~df[\"user_name\"].str.contains(\"bitfinex\")]\n",
    "df = df[~df[\"user_name\"].str.contains(\"okex\")]\n",
    "df = df[~df[\"user_name\"].str.contains(\"gemini\")]\n",
    "df = df[~df[\"user_name\"].str.contains(\"kucoin\")]\n",
    "df = df[df['text'].str.contains('long|short|buy|sell|over|up|down|support|resistance|reversal|breakdown|break|bull|bear|ban|whale|forecast', case=False, regex=True)]\n",
    "df = df[~df[\"text\"].str.contains(\"t.co\")]\n",
    "\n",
    "df = df[df['user_followers'] >= 10000]\n",
    "df.shape"
   ]
  },
  {
   "cell_type": "markdown",
   "metadata": {},
   "source": [
    "# **Decleare Start and End Time**"
   ]
  },
  {
   "cell_type": "markdown",
   "metadata": {},
   "source": [
    "Before getting BTC price dataset, we need to know time interval"
   ]
  },
  {
   "cell_type": "code",
   "execution_count": 4,
   "metadata": {
    "execution": {
     "iopub.execute_input": "2024-01-11T07:56:19.165100Z",
     "iopub.status.busy": "2024-01-11T07:56:19.164800Z",
     "iopub.status.idle": "2024-01-11T07:56:19.171676Z",
     "shell.execute_reply": "2024-01-11T07:56:19.170893Z",
     "shell.execute_reply.started": "2024-01-11T07:56:19.165074Z"
    }
   },
   "outputs": [
    {
     "data": {
      "text/plain": [
       "(Timestamp('2021-02-05 00:00:00'), Timestamp('2023-01-17 00:00:00'))"
      ]
     },
     "execution_count": 4,
     "metadata": {},
     "output_type": "execute_result"
    }
   ],
   "source": [
    "start_date = df.index[0]\n",
    "end_date = df.iloc[-1][\"1_week_later\"]+ timedelta(days=1)\n",
    "start_date,end_date"
   ]
  },
  {
   "cell_type": "markdown",
   "metadata": {},
   "source": [
    "# **Creating Bitcoin Price Dataset**"
   ]
  },
  {
   "cell_type": "markdown",
   "metadata": {},
   "source": [
    "Also adds another 2 column which are \"change\" and \"result\"\n",
    "Change = 1 week later price - index price\n",
    "Result = If price goes up, 1 else 0"
   ]
  },
  {
   "cell_type": "code",
   "execution_count": 5,
   "metadata": {
    "execution": {
     "iopub.execute_input": "2024-01-11T07:56:19.172912Z",
     "iopub.status.busy": "2024-01-11T07:56:19.172655Z",
     "iopub.status.idle": "2024-01-11T07:56:34.831753Z",
     "shell.execute_reply": "2024-01-11T07:56:34.830760Z",
     "shell.execute_reply.started": "2024-01-11T07:56:19.172886Z"
    }
   },
   "outputs": [
    {
     "name": "stdout",
     "output_type": "stream",
     "text": [
      "[*********************100%%**********************]  1 of 1 completed\n"
     ]
    },
    {
     "data": {
      "text/html": [
       "<div>\n",
       "<style scoped>\n",
       "    .dataframe tbody tr th:only-of-type {\n",
       "        vertical-align: middle;\n",
       "    }\n",
       "\n",
       "    .dataframe tbody tr th {\n",
       "        vertical-align: top;\n",
       "    }\n",
       "\n",
       "    .dataframe thead th {\n",
       "        text-align: right;\n",
       "    }\n",
       "</style>\n",
       "<table border=\"1\" class=\"dataframe\">\n",
       "  <thead>\n",
       "    <tr style=\"text-align: right;\">\n",
       "      <th></th>\n",
       "      <th>Adj Close</th>\n",
       "      <th>1_week_later_price</th>\n",
       "      <th>change</th>\n",
       "      <th>result</th>\n",
       "    </tr>\n",
       "    <tr>\n",
       "      <th>Date</th>\n",
       "      <th></th>\n",
       "      <th></th>\n",
       "      <th></th>\n",
       "      <th></th>\n",
       "    </tr>\n",
       "  </thead>\n",
       "  <tbody>\n",
       "    <tr>\n",
       "      <th>2021-02-05</th>\n",
       "      <td>38144.308594</td>\n",
       "      <td>47504.851562</td>\n",
       "      <td>9360.542969</td>\n",
       "      <td>1</td>\n",
       "    </tr>\n",
       "    <tr>\n",
       "      <th>2021-02-06</th>\n",
       "      <td>39266.011719</td>\n",
       "      <td>47105.515625</td>\n",
       "      <td>7839.503906</td>\n",
       "      <td>1</td>\n",
       "    </tr>\n",
       "    <tr>\n",
       "      <th>2021-02-07</th>\n",
       "      <td>38903.441406</td>\n",
       "      <td>48717.289062</td>\n",
       "      <td>9813.847656</td>\n",
       "      <td>1</td>\n",
       "    </tr>\n",
       "    <tr>\n",
       "      <th>2021-02-08</th>\n",
       "      <td>46196.464844</td>\n",
       "      <td>47945.058594</td>\n",
       "      <td>1748.593750</td>\n",
       "      <td>1</td>\n",
       "    </tr>\n",
       "    <tr>\n",
       "      <th>2021-02-09</th>\n",
       "      <td>46481.105469</td>\n",
       "      <td>49199.871094</td>\n",
       "      <td>2718.765625</td>\n",
       "      <td>1</td>\n",
       "    </tr>\n",
       "    <tr>\n",
       "      <th>...</th>\n",
       "      <td>...</td>\n",
       "      <td>...</td>\n",
       "      <td>...</td>\n",
       "      <td>...</td>\n",
       "    </tr>\n",
       "    <tr>\n",
       "      <th>2023-01-12</th>\n",
       "      <td>18869.587891</td>\n",
       "      <td>NaN</td>\n",
       "      <td>NaN</td>\n",
       "      <td>0</td>\n",
       "    </tr>\n",
       "    <tr>\n",
       "      <th>2023-01-13</th>\n",
       "      <td>19909.574219</td>\n",
       "      <td>NaN</td>\n",
       "      <td>NaN</td>\n",
       "      <td>0</td>\n",
       "    </tr>\n",
       "    <tr>\n",
       "      <th>2023-01-14</th>\n",
       "      <td>20976.298828</td>\n",
       "      <td>NaN</td>\n",
       "      <td>NaN</td>\n",
       "      <td>0</td>\n",
       "    </tr>\n",
       "    <tr>\n",
       "      <th>2023-01-15</th>\n",
       "      <td>20880.798828</td>\n",
       "      <td>NaN</td>\n",
       "      <td>NaN</td>\n",
       "      <td>0</td>\n",
       "    </tr>\n",
       "    <tr>\n",
       "      <th>2023-01-16</th>\n",
       "      <td>21169.632812</td>\n",
       "      <td>NaN</td>\n",
       "      <td>NaN</td>\n",
       "      <td>0</td>\n",
       "    </tr>\n",
       "  </tbody>\n",
       "</table>\n",
       "<p>711 rows × 4 columns</p>\n",
       "</div>"
      ],
      "text/plain": [
       "               Adj Close  1_week_later_price       change  result\n",
       "Date                                                             \n",
       "2021-02-05  38144.308594        47504.851562  9360.542969       1\n",
       "2021-02-06  39266.011719        47105.515625  7839.503906       1\n",
       "2021-02-07  38903.441406        48717.289062  9813.847656       1\n",
       "2021-02-08  46196.464844        47945.058594  1748.593750       1\n",
       "2021-02-09  46481.105469        49199.871094  2718.765625       1\n",
       "...                  ...                 ...          ...     ...\n",
       "2023-01-12  18869.587891                 NaN          NaN       0\n",
       "2023-01-13  19909.574219                 NaN          NaN       0\n",
       "2023-01-14  20976.298828                 NaN          NaN       0\n",
       "2023-01-15  20880.798828                 NaN          NaN       0\n",
       "2023-01-16  21169.632812                 NaN          NaN       0\n",
       "\n",
       "[711 rows x 4 columns]"
      ]
     },
     "execution_count": 5,
     "metadata": {},
     "output_type": "execute_result"
    }
   ],
   "source": [
    "btc_data = yf.download(\"BTC-USD\",start=start_date, end=end_date)[\"Adj Close\"]\n",
    "btc_data = pd.DataFrame(btc_data)\n",
    "btc_data[\"1_week_later_price\"] = btc_data[\"Adj Close\"].shift(-7)\n",
    "btc_data[\"change\"] = btc_data[\"1_week_later_price\"] - btc_data[\"Adj Close\"]\n",
    "btc_data[\"result\"] = btc_data[\"change\"].apply(lambda x: 1 if x > 0 else 0)\n",
    "btc_data"
   ]
  },
  {
   "cell_type": "markdown",
   "metadata": {},
   "source": [
    "# **Merge These 2 Datasets**"
   ]
  },
  {
   "cell_type": "code",
   "execution_count": 6,
   "metadata": {
    "execution": {
     "iopub.execute_input": "2024-01-11T07:56:34.833350Z",
     "iopub.status.busy": "2024-01-11T07:56:34.833039Z",
     "iopub.status.idle": "2024-01-11T07:56:34.967273Z",
     "shell.execute_reply": "2024-01-11T07:56:34.966328Z",
     "shell.execute_reply.started": "2024-01-11T07:56:34.833321Z"
    }
   },
   "outputs": [
    {
     "data": {
      "text/html": [
       "<div>\n",
       "<style scoped>\n",
       "    .dataframe tbody tr th:only-of-type {\n",
       "        vertical-align: middle;\n",
       "    }\n",
       "\n",
       "    .dataframe tbody tr th {\n",
       "        vertical-align: top;\n",
       "    }\n",
       "\n",
       "    .dataframe thead th {\n",
       "        text-align: right;\n",
       "    }\n",
       "</style>\n",
       "<table border=\"1\" class=\"dataframe\">\n",
       "  <thead>\n",
       "    <tr style=\"text-align: right;\">\n",
       "      <th></th>\n",
       "      <th>user_name</th>\n",
       "      <th>user_followers</th>\n",
       "      <th>text</th>\n",
       "      <th>1_week_later</th>\n",
       "      <th>Adj Close</th>\n",
       "      <th>1_week_later_price</th>\n",
       "      <th>change</th>\n",
       "      <th>result</th>\n",
       "    </tr>\n",
       "  </thead>\n",
       "  <tbody>\n",
       "    <tr>\n",
       "      <th>2021-02-05</th>\n",
       "      <td>Sqwii</td>\n",
       "      <td>13070.0</td>\n",
       "      <td>#Bitcoin close to major breakout over @elonmus...</td>\n",
       "      <td>2021-02-12</td>\n",
       "      <td>38144.308594</td>\n",
       "      <td>47504.851562</td>\n",
       "      <td>9360.542969</td>\n",
       "      <td>1</td>\n",
       "    </tr>\n",
       "    <tr>\n",
       "      <th>2021-02-06</th>\n",
       "      <td>Crypto Insider X</td>\n",
       "      <td>24410.0</td>\n",
       "      <td>#Bitcoin new ATH before the #KansasCityChiefs ...</td>\n",
       "      <td>2021-02-13</td>\n",
       "      <td>39266.011719</td>\n",
       "      <td>47105.515625</td>\n",
       "      <td>7839.503906</td>\n",
       "      <td>1</td>\n",
       "    </tr>\n",
       "    <tr>\n",
       "      <th>2021-02-06</th>\n",
       "      <td>TOP AIM STOCKS</td>\n",
       "      <td>16544.0</td>\n",
       "      <td>#BTC Never forget.  The only thing #Bitcoin ha...</td>\n",
       "      <td>2021-02-13</td>\n",
       "      <td>39266.011719</td>\n",
       "      <td>47105.515625</td>\n",
       "      <td>7839.503906</td>\n",
       "      <td>1</td>\n",
       "    </tr>\n",
       "    <tr>\n",
       "      <th>2021-02-06</th>\n",
       "      <td>TOP AIM STOCKS</td>\n",
       "      <td>16544.0</td>\n",
       "      <td>#Bitcoin is back above $40,000, recouping near...</td>\n",
       "      <td>2021-02-13</td>\n",
       "      <td>39266.011719</td>\n",
       "      <td>47105.515625</td>\n",
       "      <td>7839.503906</td>\n",
       "      <td>1</td>\n",
       "    </tr>\n",
       "    <tr>\n",
       "      <th>2021-02-06</th>\n",
       "      <td>Rekt Capital</td>\n",
       "      <td>53610.0</td>\n",
       "      <td>Buying on the retrace has been a profitable in...</td>\n",
       "      <td>2021-02-13</td>\n",
       "      <td>39266.011719</td>\n",
       "      <td>47105.515625</td>\n",
       "      <td>7839.503906</td>\n",
       "      <td>1</td>\n",
       "    </tr>\n",
       "    <tr>\n",
       "      <th>...</th>\n",
       "      <td>...</td>\n",
       "      <td>...</td>\n",
       "      <td>...</td>\n",
       "      <td>...</td>\n",
       "      <td>...</td>\n",
       "      <td>...</td>\n",
       "      <td>...</td>\n",
       "      <td>...</td>\n",
       "    </tr>\n",
       "    <tr>\n",
       "      <th>2023-01-09</th>\n",
       "      <td>Trader Fred</td>\n",
       "      <td>14701.0</td>\n",
       "      <td>Strongest Movers in #USDT\n",
       " 1 #Zilliqa $zil 🚀\n",
       " ...</td>\n",
       "      <td>2023-01-16</td>\n",
       "      <td>17196.554688</td>\n",
       "      <td>21169.632812</td>\n",
       "      <td>3973.078125</td>\n",
       "      <td>1</td>\n",
       "    </tr>\n",
       "    <tr>\n",
       "      <th>2023-01-09</th>\n",
       "      <td>Baron Chymaker.𝛑</td>\n",
       "      <td>12705.0</td>\n",
       "      <td>For all of you that say 100B supply of #Pi is ...</td>\n",
       "      <td>2023-01-16</td>\n",
       "      <td>17196.554688</td>\n",
       "      <td>21169.632812</td>\n",
       "      <td>3973.078125</td>\n",
       "      <td>1</td>\n",
       "    </tr>\n",
       "    <tr>\n",
       "      <th>2023-01-09</th>\n",
       "      <td>AJ Crypto</td>\n",
       "      <td>18573.0</td>\n",
       "      <td>What you bullish on? \n",
       "\n",
       ".\n",
       "#altcoins #altcoin #m...</td>\n",
       "      <td>2023-01-16</td>\n",
       "      <td>17196.554688</td>\n",
       "      <td>21169.632812</td>\n",
       "      <td>3973.078125</td>\n",
       "      <td>1</td>\n",
       "    </tr>\n",
       "    <tr>\n",
       "      <th>2023-01-09</th>\n",
       "      <td>Coingraph | News </td>\n",
       "      <td>251511.0</td>\n",
       "      <td>JUST IN: Metropolitan Commercial Bank has anno...</td>\n",
       "      <td>2023-01-16</td>\n",
       "      <td>17196.554688</td>\n",
       "      <td>21169.632812</td>\n",
       "      <td>3973.078125</td>\n",
       "      <td>1</td>\n",
       "    </tr>\n",
       "    <tr>\n",
       "      <th>2023-01-09</th>\n",
       "      <td>CRO_wned_head</td>\n",
       "      <td>11054.0</td>\n",
       "      <td>Update #cryptocurrency  \n",
       "#BTC : $17,250 USD\n",
       "#C...</td>\n",
       "      <td>2023-01-16</td>\n",
       "      <td>17196.554688</td>\n",
       "      <td>21169.632812</td>\n",
       "      <td>3973.078125</td>\n",
       "      <td>1</td>\n",
       "    </tr>\n",
       "  </tbody>\n",
       "</table>\n",
       "<p>54460 rows × 8 columns</p>\n",
       "</div>"
      ],
      "text/plain": [
       "                     user_name  user_followers  \\\n",
       "2021-02-05               Sqwii         13070.0   \n",
       "2021-02-06    Crypto Insider X         24410.0   \n",
       "2021-02-06      TOP AIM STOCKS         16544.0   \n",
       "2021-02-06      TOP AIM STOCKS         16544.0   \n",
       "2021-02-06        Rekt Capital         53610.0   \n",
       "...                        ...             ...   \n",
       "2023-01-09         Trader Fred         14701.0   \n",
       "2023-01-09    Baron Chymaker.𝛑         12705.0   \n",
       "2023-01-09           AJ Crypto         18573.0   \n",
       "2023-01-09  Coingraph | News         251511.0   \n",
       "2023-01-09       CRO_wned_head         11054.0   \n",
       "\n",
       "                                                         text 1_week_later  \\\n",
       "2021-02-05  #Bitcoin close to major breakout over @elonmus...   2021-02-12   \n",
       "2021-02-06  #Bitcoin new ATH before the #KansasCityChiefs ...   2021-02-13   \n",
       "2021-02-06  #BTC Never forget.  The only thing #Bitcoin ha...   2021-02-13   \n",
       "2021-02-06  #Bitcoin is back above $40,000, recouping near...   2021-02-13   \n",
       "2021-02-06  Buying on the retrace has been a profitable in...   2021-02-13   \n",
       "...                                                       ...          ...   \n",
       "2023-01-09  Strongest Movers in #USDT\n",
       " 1 #Zilliqa $zil 🚀\n",
       " ...   2023-01-16   \n",
       "2023-01-09  For all of you that say 100B supply of #Pi is ...   2023-01-16   \n",
       "2023-01-09  What you bullish on? \n",
       "\n",
       ".\n",
       "#altcoins #altcoin #m...   2023-01-16   \n",
       "2023-01-09  JUST IN: Metropolitan Commercial Bank has anno...   2023-01-16   \n",
       "2023-01-09  Update #cryptocurrency  \n",
       "#BTC : $17,250 USD\n",
       "#C...   2023-01-16   \n",
       "\n",
       "               Adj Close  1_week_later_price       change  result  \n",
       "2021-02-05  38144.308594        47504.851562  9360.542969       1  \n",
       "2021-02-06  39266.011719        47105.515625  7839.503906       1  \n",
       "2021-02-06  39266.011719        47105.515625  7839.503906       1  \n",
       "2021-02-06  39266.011719        47105.515625  7839.503906       1  \n",
       "2021-02-06  39266.011719        47105.515625  7839.503906       1  \n",
       "...                  ...                 ...          ...     ...  \n",
       "2023-01-09  17196.554688        21169.632812  3973.078125       1  \n",
       "2023-01-09  17196.554688        21169.632812  3973.078125       1  \n",
       "2023-01-09  17196.554688        21169.632812  3973.078125       1  \n",
       "2023-01-09  17196.554688        21169.632812  3973.078125       1  \n",
       "2023-01-09  17196.554688        21169.632812  3973.078125       1  \n",
       "\n",
       "[54460 rows x 8 columns]"
      ]
     },
     "execution_count": 6,
     "metadata": {},
     "output_type": "execute_result"
    }
   ],
   "source": [
    "merged_data = pd.merge(df, btc_data, how='inner', left_index=True, right_index=True)\n",
    "merged_data"
   ]
  },
  {
   "cell_type": "markdown",
   "metadata": {},
   "source": [
    "# **Cleaning Merged Data**"
   ]
  },
  {
   "cell_type": "code",
   "execution_count": 7,
   "metadata": {
    "execution": {
     "iopub.execute_input": "2024-01-11T07:56:34.968718Z",
     "iopub.status.busy": "2024-01-11T07:56:34.968456Z",
     "iopub.status.idle": "2024-01-11T07:56:35.005677Z",
     "shell.execute_reply": "2024-01-11T07:56:35.004916Z",
     "shell.execute_reply.started": "2024-01-11T07:56:34.968693Z"
    }
   },
   "outputs": [
    {
     "data": {
      "text/html": [
       "<div>\n",
       "<style scoped>\n",
       "    .dataframe tbody tr th:only-of-type {\n",
       "        vertical-align: middle;\n",
       "    }\n",
       "\n",
       "    .dataframe tbody tr th {\n",
       "        vertical-align: top;\n",
       "    }\n",
       "\n",
       "    .dataframe thead th {\n",
       "        text-align: right;\n",
       "    }\n",
       "</style>\n",
       "<table border=\"1\" class=\"dataframe\">\n",
       "  <thead>\n",
       "    <tr style=\"text-align: right;\">\n",
       "      <th></th>\n",
       "      <th>text</th>\n",
       "      <th>result</th>\n",
       "    </tr>\n",
       "  </thead>\n",
       "  <tbody>\n",
       "    <tr>\n",
       "      <th>2021-02-05</th>\n",
       "      <td>#Bitcoin close to major breakout over @elonmus...</td>\n",
       "      <td>1</td>\n",
       "    </tr>\n",
       "    <tr>\n",
       "      <th>2021-02-06</th>\n",
       "      <td>#Bitcoin new ATH before the #KansasCityChiefs ...</td>\n",
       "      <td>1</td>\n",
       "    </tr>\n",
       "    <tr>\n",
       "      <th>2021-02-06</th>\n",
       "      <td>#BTC Never forget.  The only thing #Bitcoin ha...</td>\n",
       "      <td>1</td>\n",
       "    </tr>\n",
       "    <tr>\n",
       "      <th>2021-02-06</th>\n",
       "      <td>#Bitcoin is back above $40,000, recouping near...</td>\n",
       "      <td>1</td>\n",
       "    </tr>\n",
       "    <tr>\n",
       "      <th>2021-02-06</th>\n",
       "      <td>Buying on the retrace has been a profitable in...</td>\n",
       "      <td>1</td>\n",
       "    </tr>\n",
       "    <tr>\n",
       "      <th>...</th>\n",
       "      <td>...</td>\n",
       "      <td>...</td>\n",
       "    </tr>\n",
       "    <tr>\n",
       "      <th>2023-01-09</th>\n",
       "      <td>Strongest Movers in #USDT\n",
       " 1 #Zilliqa $zil 🚀\n",
       " ...</td>\n",
       "      <td>1</td>\n",
       "    </tr>\n",
       "    <tr>\n",
       "      <th>2023-01-09</th>\n",
       "      <td>For all of you that say 100B supply of #Pi is ...</td>\n",
       "      <td>1</td>\n",
       "    </tr>\n",
       "    <tr>\n",
       "      <th>2023-01-09</th>\n",
       "      <td>What you bullish on? \n",
       "\n",
       ".\n",
       "#altcoins #altcoin #m...</td>\n",
       "      <td>1</td>\n",
       "    </tr>\n",
       "    <tr>\n",
       "      <th>2023-01-09</th>\n",
       "      <td>JUST IN: Metropolitan Commercial Bank has anno...</td>\n",
       "      <td>1</td>\n",
       "    </tr>\n",
       "    <tr>\n",
       "      <th>2023-01-09</th>\n",
       "      <td>Update #cryptocurrency  \n",
       "#BTC : $17,250 USD\n",
       "#C...</td>\n",
       "      <td>1</td>\n",
       "    </tr>\n",
       "  </tbody>\n",
       "</table>\n",
       "<p>54460 rows × 2 columns</p>\n",
       "</div>"
      ],
      "text/plain": [
       "                                                         text  result\n",
       "2021-02-05  #Bitcoin close to major breakout over @elonmus...       1\n",
       "2021-02-06  #Bitcoin new ATH before the #KansasCityChiefs ...       1\n",
       "2021-02-06  #BTC Never forget.  The only thing #Bitcoin ha...       1\n",
       "2021-02-06  #Bitcoin is back above $40,000, recouping near...       1\n",
       "2021-02-06  Buying on the retrace has been a profitable in...       1\n",
       "...                                                       ...     ...\n",
       "2023-01-09  Strongest Movers in #USDT\n",
       " 1 #Zilliqa $zil 🚀\n",
       " ...       1\n",
       "2023-01-09  For all of you that say 100B supply of #Pi is ...       1\n",
       "2023-01-09  What you bullish on? \n",
       "\n",
       ".\n",
       "#altcoins #altcoin #m...       1\n",
       "2023-01-09  JUST IN: Metropolitan Commercial Bank has anno...       1\n",
       "2023-01-09  Update #cryptocurrency  \n",
       "#BTC : $17,250 USD\n",
       "#C...       1\n",
       "\n",
       "[54460 rows x 2 columns]"
      ]
     },
     "execution_count": 7,
     "metadata": {},
     "output_type": "execute_result"
    }
   ],
   "source": [
    "merged_data = merged_data[[\"text\",\"result\"]]\n",
    "merged_data"
   ]
  },
  {
   "cell_type": "markdown",
   "metadata": {},
   "source": [
    "# **Check the Distribution**"
   ]
  },
  {
   "cell_type": "markdown",
   "metadata": {},
   "source": [
    "Distribution should look almost like SMOTE I think"
   ]
  },
  {
   "cell_type": "code",
   "execution_count": 8,
   "metadata": {
    "execution": {
     "iopub.execute_input": "2024-01-11T07:56:35.007059Z",
     "iopub.status.busy": "2024-01-11T07:56:35.006781Z",
     "iopub.status.idle": "2024-01-11T07:56:35.017493Z",
     "shell.execute_reply": "2024-01-11T07:56:35.016734Z",
     "shell.execute_reply.started": "2024-01-11T07:56:35.007026Z"
    }
   },
   "outputs": [
    {
     "data": {
      "text/plain": [
       "result\n",
       "0    22927\n",
       "1    31533\n",
       "dtype: int64"
      ]
     },
     "execution_count": 8,
     "metadata": {},
     "output_type": "execute_result"
    }
   ],
   "source": [
    "merged_data.groupby('result').size()"
   ]
  },
  {
   "cell_type": "code",
   "execution_count": 9,
   "metadata": {
    "execution": {
     "iopub.execute_input": "2024-01-11T07:56:35.020361Z",
     "iopub.status.busy": "2024-01-11T07:56:35.019809Z",
     "iopub.status.idle": "2024-01-11T07:56:35.348768Z",
     "shell.execute_reply": "2024-01-11T07:56:35.347909Z",
     "shell.execute_reply.started": "2024-01-11T07:56:35.020323Z"
    }
   },
   "outputs": [
    {
     "data": {
      "text/html": [
       "<div>\n",
       "<style scoped>\n",
       "    .dataframe tbody tr th:only-of-type {\n",
       "        vertical-align: middle;\n",
       "    }\n",
       "\n",
       "    .dataframe tbody tr th {\n",
       "        vertical-align: top;\n",
       "    }\n",
       "\n",
       "    .dataframe thead th {\n",
       "        text-align: right;\n",
       "    }\n",
       "</style>\n",
       "<table border=\"1\" class=\"dataframe\">\n",
       "  <thead>\n",
       "    <tr style=\"text-align: right;\">\n",
       "      <th></th>\n",
       "      <th>text</th>\n",
       "      <th>result</th>\n",
       "    </tr>\n",
       "    <tr>\n",
       "      <th>index</th>\n",
       "      <th></th>\n",
       "      <th></th>\n",
       "    </tr>\n",
       "  </thead>\n",
       "  <tbody>\n",
       "    <tr>\n",
       "      <th>2021-02-05</th>\n",
       "      <td>#Bitcoin close to major breakout over @elonmus...</td>\n",
       "      <td>1</td>\n",
       "    </tr>\n",
       "    <tr>\n",
       "      <th>2021-02-06</th>\n",
       "      <td>#Bitcoin new ATH before the #KansasCityChiefs ...</td>\n",
       "      <td>1</td>\n",
       "    </tr>\n",
       "    <tr>\n",
       "      <th>2021-02-07</th>\n",
       "      <td>$58m of Bitcoin was just moved from Coinbase t...</td>\n",
       "      <td>1</td>\n",
       "    </tr>\n",
       "    <tr>\n",
       "      <th>2021-02-08</th>\n",
       "      <td>Not only did Elon Musk end the #Bitcoin correc...</td>\n",
       "      <td>1</td>\n",
       "    </tr>\n",
       "    <tr>\n",
       "      <th>2021-02-09</th>\n",
       "      <td>Your views on #Bitcoin &amp;amp; the current #BTC-...</td>\n",
       "      <td>1</td>\n",
       "    </tr>\n",
       "    <tr>\n",
       "      <th>...</th>\n",
       "      <td>...</td>\n",
       "      <td>...</td>\n",
       "    </tr>\n",
       "    <tr>\n",
       "      <th>2022-12-27</th>\n",
       "      <td>I had a very similar discussion with #BTC maxi...</td>\n",
       "      <td>0</td>\n",
       "    </tr>\n",
       "    <tr>\n",
       "      <th>2023-01-06</th>\n",
       "      <td>NOT selling #Dash $DASH\\n🚀\\n\\nLT bags:\\n#BTC #...</td>\n",
       "      <td>1</td>\n",
       "    </tr>\n",
       "    <tr>\n",
       "      <th>2023-01-07</th>\n",
       "      <td>This is the worst time to sell your #Bitcoin. ...</td>\n",
       "      <td>1</td>\n",
       "    </tr>\n",
       "    <tr>\n",
       "      <th>2023-01-08</th>\n",
       "      <td>Strongest Movers in #USDT\\n 1 #GALA $gala 🚀\\n ...</td>\n",
       "      <td>1</td>\n",
       "    </tr>\n",
       "    <tr>\n",
       "      <th>2023-01-09</th>\n",
       "      <td>#BITCOIN BULLISH BREAKOUT !!! The #Bitcoin Poe...</td>\n",
       "      <td>1</td>\n",
       "    </tr>\n",
       "  </tbody>\n",
       "</table>\n",
       "<p>219 rows × 2 columns</p>\n",
       "</div>"
      ],
      "text/plain": [
       "                                                         text  result\n",
       "index                                                                \n",
       "2021-02-05  #Bitcoin close to major breakout over @elonmus...       1\n",
       "2021-02-06  #Bitcoin new ATH before the #KansasCityChiefs ...       1\n",
       "2021-02-07  $58m of Bitcoin was just moved from Coinbase t...       1\n",
       "2021-02-08  Not only did Elon Musk end the #Bitcoin correc...       1\n",
       "2021-02-09  Your views on #Bitcoin &amp; the current #BTC-...       1\n",
       "...                                                       ...     ...\n",
       "2022-12-27  I had a very similar discussion with #BTC maxi...       0\n",
       "2023-01-06  NOT selling #Dash $DASH\\n🚀\\n\\nLT bags:\\n#BTC #...       1\n",
       "2023-01-07  This is the worst time to sell your #Bitcoin. ...       1\n",
       "2023-01-08  Strongest Movers in #USDT\\n 1 #GALA $gala 🚀\\n ...       1\n",
       "2023-01-09  #BITCOIN BULLISH BREAKOUT !!! The #Bitcoin Poe...       1\n",
       "\n",
       "[219 rows x 2 columns]"
      ]
     },
     "execution_count": 9,
     "metadata": {},
     "output_type": "execute_result"
    }
   ],
   "source": [
    "g_df = merged_data.groupby(merged_data.index)['text'].apply(' '.join).reset_index()\n",
    "g_df['result'] = merged_data.groupby(merged_data.index)['result'].mean().astype(int).values\n",
    "\n",
    "g_df.set_index('index', inplace=True)\n",
    "g_df"
   ]
  },
  {
   "cell_type": "markdown",
   "metadata": {},
   "source": [
    "# Apply BERT Transform"
   ]
  },
  {
   "cell_type": "code",
   "execution_count": 10,
   "metadata": {
    "execution": {
     "iopub.execute_input": "2024-01-11T07:56:35.350074Z",
     "iopub.status.busy": "2024-01-11T07:56:35.349790Z",
     "iopub.status.idle": "2024-01-11T08:00:56.382912Z",
     "shell.execute_reply": "2024-01-11T08:00:56.381867Z",
     "shell.execute_reply.started": "2024-01-11T07:56:35.350046Z"
    }
   },
   "outputs": [
    {
     "name": "stderr",
     "output_type": "stream",
     "text": [
      "  0%|          | 0/175 [00:00<?, ?it/s]Token indices sequence length is longer than the specified maximum sequence length for this model (34008 > 512). Running this sequence through the model will result in indexing errors\n",
      "  7%|▋         | 12/175 [00:06<01:16,  2.12it/s]We strongly recommend passing in an `attention_mask` since your input_ids may be padded. See https://huggingface.co/docs/transformers/troubleshooting#incorrect-output-when-padding-tokens-arent-masked.\n",
      "100%|██████████| 175/175 [01:35<00:00,  1.82it/s]\n",
      "100%|██████████| 44/44 [00:20<00:00,  2.10it/s]\n"
     ]
    }
   ],
   "source": [
    "import pandas as pd\n",
    "from sklearn.model_selection import train_test_split\n",
    "from sklearn.preprocessing import LabelEncoder\n",
    "from sklearn.metrics import accuracy_score\n",
    "from sklearn.neural_network import MLPClassifier\n",
    "from transformers import BertTokenizer, BertModel\n",
    "import torch\n",
    "from tqdm import tqdm\n",
    "from sklearn.metrics import f1_score\n",
    "\n",
    "X = g_df[\"text\"]\n",
    "y = g_df['result']\n",
    "\n",
    "X_train, X_test, y_train, y_test = train_test_split(X, y, test_size=0.2, random_state=42)\n",
    "\n",
    "tokenizer = BertTokenizer.from_pretrained('bert-base-uncased')\n",
    "model = BertModel.from_pretrained('bert-base-uncased')\n",
    "model.eval()\n",
    "\n",
    "def get_bert_embedding(text, max_length=512):\n",
    "    tokens = tokenizer.encode(text, add_special_tokens=True)[:max_length]\n",
    "    tokens += [0] * (max_length - len(tokens))\n",
    "    tokens_tensor = torch.tensor(tokens).unsqueeze(0)\n",
    "    with torch.no_grad():\n",
    "        outputs = model(tokens_tensor)\n",
    "    return outputs.last_hidden_state.mean(dim=1).squeeze().numpy()\n",
    "train_embeddings = [get_bert_embedding(text, max_length=512) for text in tqdm(X_train)]\n",
    "test_embeddings = [get_bert_embedding(text, max_length=512) for text in tqdm(X_test)]"
   ]
  },
  {
   "cell_type": "markdown",
   "metadata": {},
   "source": [
    "# MLP"
   ]
  },
  {
   "cell_type": "code",
   "execution_count": 13,
   "metadata": {
    "execution": {
     "iopub.execute_input": "2024-01-11T08:02:20.408604Z",
     "iopub.status.busy": "2024-01-11T08:02:20.408126Z"
    }
   },
   "outputs": [
    {
     "data": {
      "text/html": [
       "<div>\n",
       "<style scoped>\n",
       "    .dataframe tbody tr th:only-of-type {\n",
       "        vertical-align: middle;\n",
       "    }\n",
       "\n",
       "    .dataframe tbody tr th {\n",
       "        vertical-align: top;\n",
       "    }\n",
       "\n",
       "    .dataframe thead th {\n",
       "        text-align: right;\n",
       "    }\n",
       "</style>\n",
       "<table border=\"1\" class=\"dataframe\">\n",
       "  <thead>\n",
       "    <tr style=\"text-align: right;\">\n",
       "      <th></th>\n",
       "      <th>HiddenLayer1</th>\n",
       "      <th>HiddenLayer2</th>\n",
       "      <th>MaxIter</th>\n",
       "      <th>Accuracy</th>\n",
       "    </tr>\n",
       "  </thead>\n",
       "  <tbody>\n",
       "    <tr>\n",
       "      <th>0</th>\n",
       "      <td>1.0</td>\n",
       "      <td>1.0</td>\n",
       "      <td>1000.0</td>\n",
       "      <td>0.568182</td>\n",
       "    </tr>\n",
       "    <tr>\n",
       "      <th>1</th>\n",
       "      <td>1.0</td>\n",
       "      <td>1.0</td>\n",
       "      <td>2000.0</td>\n",
       "      <td>0.431818</td>\n",
       "    </tr>\n",
       "    <tr>\n",
       "      <th>2</th>\n",
       "      <td>1.0</td>\n",
       "      <td>1.0</td>\n",
       "      <td>3000.0</td>\n",
       "      <td>0.568182</td>\n",
       "    </tr>\n",
       "    <tr>\n",
       "      <th>3</th>\n",
       "      <td>1.0</td>\n",
       "      <td>1.0</td>\n",
       "      <td>4000.0</td>\n",
       "      <td>0.568182</td>\n",
       "    </tr>\n",
       "    <tr>\n",
       "      <th>4</th>\n",
       "      <td>1.0</td>\n",
       "      <td>1.0</td>\n",
       "      <td>5000.0</td>\n",
       "      <td>0.431818</td>\n",
       "    </tr>\n",
       "    <tr>\n",
       "      <th>...</th>\n",
       "      <td>...</td>\n",
       "      <td>...</td>\n",
       "      <td>...</td>\n",
       "      <td>...</td>\n",
       "    </tr>\n",
       "    <tr>\n",
       "      <th>2396</th>\n",
       "      <td>7.0</td>\n",
       "      <td>7.0</td>\n",
       "      <td>45000.0</td>\n",
       "      <td>0.590909</td>\n",
       "    </tr>\n",
       "    <tr>\n",
       "      <th>2397</th>\n",
       "      <td>7.0</td>\n",
       "      <td>7.0</td>\n",
       "      <td>46000.0</td>\n",
       "      <td>0.613636</td>\n",
       "    </tr>\n",
       "    <tr>\n",
       "      <th>2398</th>\n",
       "      <td>7.0</td>\n",
       "      <td>7.0</td>\n",
       "      <td>47000.0</td>\n",
       "      <td>0.477273</td>\n",
       "    </tr>\n",
       "    <tr>\n",
       "      <th>2399</th>\n",
       "      <td>7.0</td>\n",
       "      <td>7.0</td>\n",
       "      <td>48000.0</td>\n",
       "      <td>0.522727</td>\n",
       "    </tr>\n",
       "    <tr>\n",
       "      <th>2400</th>\n",
       "      <td>7.0</td>\n",
       "      <td>7.0</td>\n",
       "      <td>49000.0</td>\n",
       "      <td>0.568182</td>\n",
       "    </tr>\n",
       "  </tbody>\n",
       "</table>\n",
       "<p>2401 rows × 4 columns</p>\n",
       "</div>"
      ],
      "text/plain": [
       "      HiddenLayer1  HiddenLayer2  MaxIter  Accuracy\n",
       "0              1.0           1.0   1000.0  0.568182\n",
       "1              1.0           1.0   2000.0  0.431818\n",
       "2              1.0           1.0   3000.0  0.568182\n",
       "3              1.0           1.0   4000.0  0.568182\n",
       "4              1.0           1.0   5000.0  0.431818\n",
       "...            ...           ...      ...       ...\n",
       "2396           7.0           7.0  45000.0  0.590909\n",
       "2397           7.0           7.0  46000.0  0.613636\n",
       "2398           7.0           7.0  47000.0  0.477273\n",
       "2399           7.0           7.0  48000.0  0.522727\n",
       "2400           7.0           7.0  49000.0  0.568182\n",
       "\n",
       "[2401 rows x 4 columns]"
      ]
     },
     "execution_count": 13,
     "metadata": {},
     "output_type": "execute_result"
    }
   ],
   "source": [
    "results_df = pd.DataFrame(columns=['HiddenLayer1', 'HiddenLayer2', 'MaxIter', 'Accuracy'])\n",
    "\n",
    "for i in range(1,8):\n",
    "    for j in range(1,8):\n",
    "        for k in range(1000,50000,1000):\n",
    "            mlp = MLPClassifier(hidden_layer_sizes=(i,j), max_iter=k, tol= 0.001)\n",
    "            mlp.fit(train_embeddings, y_train)\n",
    "            predictions = mlp.predict(test_embeddings)\n",
    "            accuracy = accuracy_score(y_test, predictions)\n",
    "\n",
    "            results_df.loc[len(results_df)] = [i, j, k, accuracy]\n",
    "results_df"
   ]
  },
  {
   "cell_type": "code",
   "execution_count": 14,
   "metadata": {},
   "outputs": [
    {
     "data": {
      "text/html": [
       "<div>\n",
       "<style scoped>\n",
       "    .dataframe tbody tr th:only-of-type {\n",
       "        vertical-align: middle;\n",
       "    }\n",
       "\n",
       "    .dataframe tbody tr th {\n",
       "        vertical-align: top;\n",
       "    }\n",
       "\n",
       "    .dataframe thead th {\n",
       "        text-align: right;\n",
       "    }\n",
       "</style>\n",
       "<table border=\"1\" class=\"dataframe\">\n",
       "  <thead>\n",
       "    <tr style=\"text-align: right;\">\n",
       "      <th></th>\n",
       "      <th>HiddenLayer1</th>\n",
       "      <th>HiddenLayer2</th>\n",
       "      <th>MaxIter</th>\n",
       "      <th>Accuracy</th>\n",
       "    </tr>\n",
       "  </thead>\n",
       "  <tbody>\n",
       "    <tr>\n",
       "      <th>1617</th>\n",
       "      <td>5.0</td>\n",
       "      <td>6.0</td>\n",
       "      <td>1000.0</td>\n",
       "      <td>0.727273</td>\n",
       "    </tr>\n",
       "    <tr>\n",
       "      <th>2242</th>\n",
       "      <td>7.0</td>\n",
       "      <td>4.0</td>\n",
       "      <td>38000.0</td>\n",
       "      <td>0.681818</td>\n",
       "    </tr>\n",
       "    <tr>\n",
       "      <th>2392</th>\n",
       "      <td>7.0</td>\n",
       "      <td>7.0</td>\n",
       "      <td>41000.0</td>\n",
       "      <td>0.681818</td>\n",
       "    </tr>\n",
       "    <tr>\n",
       "      <th>1574</th>\n",
       "      <td>5.0</td>\n",
       "      <td>5.0</td>\n",
       "      <td>7000.0</td>\n",
       "      <td>0.681818</td>\n",
       "    </tr>\n",
       "    <tr>\n",
       "      <th>2033</th>\n",
       "      <td>6.0</td>\n",
       "      <td>7.0</td>\n",
       "      <td>25000.0</td>\n",
       "      <td>0.681818</td>\n",
       "    </tr>\n",
       "    <tr>\n",
       "      <th>...</th>\n",
       "      <td>...</td>\n",
       "      <td>...</td>\n",
       "      <td>...</td>\n",
       "      <td>...</td>\n",
       "    </tr>\n",
       "    <tr>\n",
       "      <th>1951</th>\n",
       "      <td>6.0</td>\n",
       "      <td>5.0</td>\n",
       "      <td>41000.0</td>\n",
       "      <td>0.409091</td>\n",
       "    </tr>\n",
       "    <tr>\n",
       "      <th>453</th>\n",
       "      <td>2.0</td>\n",
       "      <td>3.0</td>\n",
       "      <td>13000.0</td>\n",
       "      <td>0.409091</td>\n",
       "    </tr>\n",
       "    <tr>\n",
       "      <th>1990</th>\n",
       "      <td>6.0</td>\n",
       "      <td>6.0</td>\n",
       "      <td>31000.0</td>\n",
       "      <td>0.409091</td>\n",
       "    </tr>\n",
       "    <tr>\n",
       "      <th>1431</th>\n",
       "      <td>5.0</td>\n",
       "      <td>2.0</td>\n",
       "      <td>11000.0</td>\n",
       "      <td>0.409091</td>\n",
       "    </tr>\n",
       "    <tr>\n",
       "      <th>1641</th>\n",
       "      <td>5.0</td>\n",
       "      <td>6.0</td>\n",
       "      <td>25000.0</td>\n",
       "      <td>0.409091</td>\n",
       "    </tr>\n",
       "  </tbody>\n",
       "</table>\n",
       "<p>2401 rows × 4 columns</p>\n",
       "</div>"
      ],
      "text/plain": [
       "      HiddenLayer1  HiddenLayer2  MaxIter  Accuracy\n",
       "1617           5.0           6.0   1000.0  0.727273\n",
       "2242           7.0           4.0  38000.0  0.681818\n",
       "2392           7.0           7.0  41000.0  0.681818\n",
       "1574           5.0           5.0   7000.0  0.681818\n",
       "2033           6.0           7.0  25000.0  0.681818\n",
       "...            ...           ...      ...       ...\n",
       "1951           6.0           5.0  41000.0  0.409091\n",
       "453            2.0           3.0  13000.0  0.409091\n",
       "1990           6.0           6.0  31000.0  0.409091\n",
       "1431           5.0           2.0  11000.0  0.409091\n",
       "1641           5.0           6.0  25000.0  0.409091\n",
       "\n",
       "[2401 rows x 4 columns]"
      ]
     },
     "execution_count": 14,
     "metadata": {},
     "output_type": "execute_result"
    }
   ],
   "source": [
    "sorted_results_df = results_df.sort_values(by='Accuracy', ascending=False)\n",
    "sorted_results_df"
   ]
  },
  {
   "cell_type": "code",
   "execution_count": null,
   "metadata": {},
   "outputs": [],
   "source": []
  }
 ],
 "metadata": {
  "kaggle": {
   "accelerator": "tpu1vmV38",
   "dataSources": [
    {
     "datasetId": 1155801,
     "sourceId": 5141688,
     "sourceType": "datasetVersion"
    }
   ],
   "dockerImageVersionId": 30628,
   "isGpuEnabled": false,
   "isInternetEnabled": true,
   "language": "python",
   "sourceType": "notebook"
  },
  "kernelspec": {
   "display_name": "Python 3 (ipykernel)",
   "language": "python",
   "name": "python3"
  },
  "language_info": {
   "codemirror_mode": {
    "name": "ipython",
    "version": 3
   },
   "file_extension": ".py",
   "mimetype": "text/x-python",
   "name": "python",
   "nbconvert_exporter": "python",
   "pygments_lexer": "ipython3",
   "version": "3.11.5"
  }
 },
 "nbformat": 4,
 "nbformat_minor": 4
}
